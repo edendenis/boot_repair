{
 "cells": [
  {
   "cell_type": "markdown",
   "metadata": {},
   "source": [
    "# Como configurar/instalar/usar o `boot-repair` no `Linux Ubuntu`\n",
    "\n",
    "## Resumo\n",
    "\n",
    "Neste documento estão contidos os principais comandos e configurações para configurar/instalar/usar o `boot-repair` no `Linux Ubuntu`.\n",
    "\n",
    "## _Abstract_\n",
    "\n",
    "_This document contains the main commands and settings for configuring/installing/using the `boot-repair` on `Linux Ubuntu`._\n"
   ]
  },
  {
   "cell_type": "markdown",
   "metadata": {},
   "source": [
    "## Descrição [2]\n",
    "\n",
    "### `boot-repair`\n",
    "\n",
    "`Boot-Repair` é uma ferramenta de diagnóstico e reparo de inicialização para sistemas operacionais baseados em Linux, como Ubuntu. Ele ajuda a resolver uma variedade de problemas de inicialização, incluindo a recuperação do gerenciador de inicialização GRUB, reparo de partições corrompidas e configuração de opções de inicialização avançadas. Com uma interface intuitiva e procedimentos automatizados, o `Boot-Repair` torna mais fácil para os usuários resolverem problemas de inicialização e restaurarem seus sistemas operacionais em caso de falhas.\n"
   ]
  },
  {
   "cell_type": "markdown",
   "metadata": {},
   "source": [
    "## 1. Como configurar/instalar/usar o `boot-repair` no `Linux Ubuntu` [1][3]\n",
    "\n",
    "Para configurar/instalar/usar o `boot-repair` no `Linux Ubuntu`, você pode seguir estes passos:\n",
    "\n",
    "1. Abra o `Terminal Emulator`. Você pode fazer isso pressionando: `Ctrl + Alt + T`"
   ]
  },
  {
   "cell_type": "markdown",
   "metadata": {},
   "source": [
    "2. Certifique-se de que seu sistema esteja limpo e atualizado.\n",
    "\n",
    "    2.1 Limpar o `cache` do gerenciador de pacotes APT. Especificamente, ele remove todos os arquivos de pacotes (`.deb`) baixados pelo APT e armazenados em `/var/cache/apt/archives/`. Digite o seguinte comando: `sudo apt clean` \n",
    "    \n",
    "    2.2 Remover pacotes `.deb` antigos ou duplicados do cache local. É útil para liberar espaço, pois remove apenas os pacotes que não podem mais ser baixados (ou seja, versões antigas de pacotes que foram atualizados). Digite o seguinte comando: `sudo apt autoclean`\n",
    "\n",
    "    2.3 Remover pacotes que foram automaticamente instalados para satisfazer as dependências de outros pacotes e que não são mais necessários. Digite o seguinte comando: `sudo apt autoremove -y`\n",
    "\n",
    "    2.4 Buscar as atualizações disponíveis para os pacotes que estão instalados em seu sistema. Digite o seguinte comando e pressione `Enter`: `sudo apt update -y`\n",
    "\n",
    "    2.5 Para ver a lista de pacotes a serem atualizados, digite o seguinte comando e pressione `Enter`:  `sudo apt list --upgradable`\n",
    "\n",
    "    2.6 Realmente atualizar os pacotes instalados para as suas versões mais recentes, com base na última vez que você executou `sudo apt update -y`. Digite o seguinte comando e pressione `Enter`: `sudo apt full-upgrade -y`\n",
    "\n",
    "    2.7 Remover pacotes que foram automaticamente instalados para satisfazer as dependências de outros pacotes e que não são mais necessários. Digite o seguinte comando: `sudo apt autoremove -y`\n",
    "\n",
    "    2.8 Remover pacotes `.deb` antigos ou duplicados do cache local. É útil para liberar espaço, pois remove apenas os pacotes que não podem mais ser baixados (ou seja, versões antigas de pacotes que foram atualizados). Digite o seguinte comando: `sudo apt autoclean`"
   ]
  },
  {
   "cell_type": "markdown",
   "metadata": {},
   "source": [
    "Para instalar o `boot-repair` no Ubuntu através do Terminal, você pode seguir os seguintes passos. O `boot-repair` é uma ferramenta útil para corrigir problemas de inicialização do sistema, especialmente útil quando você está lidando com problemas relacionados ao GRUB.\n",
    "\n",
    "1. **Adicione o repositório do Boot Repair**: Antes de instalar o `boot-repair`, você precisa adicionar o repositório PPA (Personal Package Archive) que contém o pacote. No terminal, digite o seguinte comando: `sudo add-apt-repository ppa:yannubuntu/boot-repair`\n",
    "\n",
    "2. **Atualize a lista de pacotes**: Após adicionar o repositório, atualize a lista de pacotes para incluir os novos pacotes disponíveis no repositório que você acabou de adicionar. Execute: `sudo apt update -y`\n",
    "\n",
    "3. **Instale o Boot Repair: Agora, instale o `boot-repair` usando o comando**: `sudo apt install -y boot-repair`\n",
    "\n",
    "4. **Inicie o Boot Repair**: Uma vez instalado, você pode iniciar o `boot-repair` diretamente do terminal com o comando: `boot-repair`\n",
    "\n",
    "    4.1 Depois de iniciar, o `boot-repair` vai oferecer algumas opções através de uma interface gráfica para corrigir problemas comuns de boot. Geralmente, selecionar a opção `\"Recommended repair\"` resolve a maioria dos problemas de inicialização.\n",
    "\n",
    "Se você precisar usar a ferramenta novamente no futuro, ela estará instalada no seu sistema e poderá ser acessada através do terminal ou do menu de aplicações."
   ]
  },
  {
   "cell_type": "markdown",
   "metadata": {
    "vscode": {
     "languageId": "plaintext"
    }
   },
   "source": [
    "### 2. Código completo para configurar/instalar/usar\n",
    "\n",
    "Para configurar/instalar/usar o `boot-repair` no `Linux Ubuntu` sem precisar digitar linha por linha, você pode seguir estas etapas:\n",
    "\n",
    "1. Abra o terminal. Você pode fazer isso pressionando: `Ctrl + Alt + T`\n",
    "\n",
    "2. Digite o seguinte comando e pressione `Enter`:\n",
    "\n",
    "    ```\n",
    "    sudo apt clean\n",
    "    sudo apt autoclean -y\n",
    "    sudo apt autoremove -y\n",
    "    sudo apt update -y\n",
    "    sudo apt uptoremove -y\n",
    "    sudo apt autoclean -y\n",
    "    sudo add-apt-repository ppa:yannubuntu/boot-repair\n",
    "    sudo apt update -y\n",
    "    sudo apt install -y boot-repair\n",
    "    boot-repair\n",
    "    ```\n"
   ]
  },
  {
   "cell_type": "markdown",
   "metadata": {
    "vscode": {
     "languageId": "plaintext"
    }
   },
   "source": [
    "## Referências\n",
    "\n",
    "[1] OPENAI. ***Instalar Boot Repair Ubuntu.*** Disponível em: <https://chat.openai.com/c/83c3d966-b8d6-47a6-851a-0b6cac3018e8> (texto adaptado). Acessado em: 18/04/2023 17:11.\n",
    "\n",
    "[2] OPENAI. ***Vs code: editor popular.*** Disponível em: <https://chat.openai.com/c/b640a25d-f8e3-4922-8a3b-ed74a2657e42> (texto adaptado). Acessado em: 18/04/2024 17:10.\n"
   ]
  }
 ],
 "metadata": {
  "kernelspec": {
   "display_name": "Python 3",
   "language": "python",
   "name": "python3"
  },
  "language_info": {
   "codemirror_mode": {
    "name": "ipython",
    "version": 3
   },
   "file_extension": ".py",
   "mimetype": "text/x-python",
   "name": "python",
   "nbconvert_exporter": "python",
   "pygments_lexer": "ipython3",
   "version": "3.11.8"
  },
  "orig_nbformat": 4
 },
 "nbformat": 4,
 "nbformat_minor": 2
}
